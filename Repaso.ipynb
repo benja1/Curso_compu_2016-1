{
 "cells": [
  {
   "cell_type": "code",
   "execution_count": null,
   "metadata": {
    "collapsed": true
   },
   "outputs": [],
   "source": []
  },
  {
   "cell_type": "code",
   "execution_count": 66,
   "metadata": {
    "collapsed": false
   },
   "outputs": [],
   "source": [
    "def factorial2(n):\n",
    "    f,i=1,1\n",
    "    \n",
    "    if n==0 or n ==1:\n",
    "        print i\n",
    "        return i\n",
    "    else:\n",
    "        while i <= n:\n",
    "            f=f*i\n",
    "            i=i+1\n",
    "        #print\"Factorial es:\", f\n",
    "        return f"
   ]
  },
  {
   "cell_type": "code",
   "execution_count": 67,
   "metadata": {
    "collapsed": false
   },
   "outputs": [
    {
     "data": {
      "text/plain": [
       "1.5"
      ]
     },
     "execution_count": 67,
     "metadata": {},
     "output_type": "execute_result"
    }
   ],
   "source": [
    "(2+1.0)/2"
   ]
  },
  {
   "cell_type": "code",
   "execution_count": 68,
   "metadata": {
    "collapsed": false
   },
   "outputs": [],
   "source": [
    "\n",
    "def facLista(A):\n",
    "    C=[]\n",
    "    D=[]\n",
    "    for a in A:\n",
    "        d=factorial2(a)\n",
    "        D.append(d)\n",
    "    \n",
    "    return D\n",
    "    "
   ]
  },
  {
   "cell_type": "code",
   "execution_count": 69,
   "metadata": {
    "collapsed": false
   },
   "outputs": [
    {
     "name": "stdout",
     "output_type": "stream",
     "text": [
      "1\n",
      "1\n"
     ]
    },
    {
     "data": {
      "text/plain": [
       "[1, 1, 2, 6, 24, 120]"
      ]
     },
     "execution_count": 69,
     "metadata": {},
     "output_type": "execute_result"
    }
   ],
   "source": [
    "facLista(range(6))"
   ]
  },
  {
   "cell_type": "code",
   "execution_count": 74,
   "metadata": {
    "collapsed": false
   },
   "outputs": [],
   "source": [
    "\n",
    "def funcionseno(x,n):\n",
    "    s,i=0,0\n",
    "    while i<=n:\n",
    "        pancho=(((-1)**i)*x**(2*i+1))/(factorial2(2*i+1))\n",
    "        s=s+pancho\n",
    "        i=i+1\n",
    "    return s\n",
    "    print s\n",
    "    \n",
    "        \n",
    "        "
   ]
  },
  {
   "cell_type": "code",
   "execution_count": 78,
   "metadata": {
    "collapsed": false
   },
   "outputs": [
    {
     "name": "stdout",
     "output_type": "stream",
     "text": [
      "1\n"
     ]
    },
    {
     "data": {
      "text/plain": [
       "1.0000000000000002"
      ]
     },
     "execution_count": 78,
     "metadata": {},
     "output_type": "execute_result"
    }
   ],
   "source": [
    "funcionseno(3.14159265358979/2,15)"
   ]
  },
  {
   "cell_type": "markdown",
   "metadata": {},
   "source": [
    "# Tiro parabólico"
   ]
  },
  {
   "cell_type": "markdown",
   "metadata": {},
   "source": [
    "Programemos un tiro parabólico con fricción,\n",
    "sabemos que la sergunda leyde Newton\n",
    "\n",
    "\\begin{equation}\n",
    "\\vec{F}= m \\ddot{\\vec{x}}\n",
    "\\end{equation}\n",
    "\n",
    "La fricción se puede modelar de tal forma que esta es proporcional a la velocidad\n",
    "\\begin{equation}\n",
    "\\vec{F}_{f}= - k\\dot{\\vec{x}}\n",
    "\\end{equation}\n",
    "\n",
    "Para la componente en $x$\n",
    "\n",
    "$$ m\\ddot{x} = -k\\dot{x} $$\n",
    "\n",
    "Para la componente en $y$\n",
    "\n",
    "$$ m\\ddot{y} = mg -k\\dot{x} $$\n"
   ]
  },
  {
   "cell_type": "markdown",
   "metadata": {},
   "source": [
    "## Definamos un campo vectorial"
   ]
  },
  {
   "cell_type": "markdown",
   "metadata": {},
   "source": [
    "Definimos $v_x \\equiv \\dot{x}$ y $v_y \\equiv \\dot{y}$, de esto se sigue que $\\dot{v}_x = \\ddot{x} = -\\alpha\\dot{x}$ y $\\dot{v}_y = \\ddot{y} = g -\\alpha\\dot{y}$. \n",
    "\n",
    " $$v_x = \\dot{x}$$\n",
    " $$\\dot{v}_x  = -\\alpha\\dot{x}$$\n",
    " \n",
    " $$v_y = \\dot{y}$$\n",
    " $$\\dot{v}_y  =g -\\alpha\\dot{y}$$\n",
    "\n",
    "\n",
    "\n"
   ]
  },
  {
   "cell_type": "code",
   "execution_count": 80,
   "metadata": {
    "collapsed": true
   },
   "outputs": [],
   "source": [
    "##  Ahora definamos el anterior campo vectorial\n",
    "\n",
    "def campo(ent): # ent es una lista de cuatro entradas ques son posición en\n",
    "                #x, y y velocidad en x,y\n",
    "        x_dot = ent[2]\n",
    "        vx_dot = - a*ent[2]\n",
    "        \n",
    "        y_dot = ent[3]\n",
    "        vy_dot = g - a*ent[3]\n",
    "    "
   ]
  },
  {
   "cell_type": "code",
   "execution_count": null,
   "metadata": {
    "collapsed": true
   },
   "outputs": [],
   "source": []
  }
 ],
 "metadata": {
  "kernelspec": {
   "display_name": "Python 2",
   "language": "python",
   "name": "python2"
  },
  "language_info": {
   "codemirror_mode": {
    "name": "ipython",
    "version": 2
   },
   "file_extension": ".py",
   "mimetype": "text/x-python",
   "name": "python",
   "nbconvert_exporter": "python",
   "pygments_lexer": "ipython2",
   "version": "2.7.10"
  }
 },
 "nbformat": 4,
 "nbformat_minor": 0
}
