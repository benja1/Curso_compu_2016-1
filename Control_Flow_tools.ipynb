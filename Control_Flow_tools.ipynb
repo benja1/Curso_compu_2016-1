{
 "cells": [
  {
   "cell_type": "markdown",
   "metadata": {},
   "source": [
    "# Algunas Herramientas"
   ]
  },
  {
   "cell_type": "markdown",
   "metadata": {},
   "source": [
    "#While: \n",
    "Ejecuta un loop (ciclo) mientras alguna condición siga siendo verdadera. Por ejemplo:"
   ]
  },
  {
   "cell_type": "code",
   "execution_count": 1,
   "metadata": {
    "collapsed": false,
    "scrolled": false
   },
   "outputs": [
    {
     "name": "stdout",
     "output_type": "stream",
     "text": [
      "1\n",
      "1\n",
      "2\n",
      "3\n",
      "5\n",
      "8\n",
      "13\n",
      "21\n",
      "34\n",
      "55\n",
      "89\n"
     ]
    }
   ],
   "source": [
    "# Serie de Fibonacci\n",
    "a = 0\n",
    "b = 1\n",
    "s = 1\n",
    "while s < 100:\n",
    "    print s\n",
    "    s=a+b\n",
    "    a=b \n",
    "    b=s\n",
    "   "
   ]
  },
  {
   "cell_type": "markdown",
   "metadata": {},
   "source": [
    "#Print\n",
    "\n",
    "Esta instrucción escribe el valor de la expresión indicada."
   ]
  },
  {
   "cell_type": "code",
   "execution_count": 2,
   "metadata": {
    "collapsed": false
   },
   "outputs": [
    {
     "name": "stdout",
     "output_type": "stream",
     "text": [
      "Hola mundo ¿como estas? 89 144\n"
     ]
    }
   ],
   "source": [
    "print \"Hola mundo\", \"¿como estas?\", a, b"
   ]
  },
  {
   "cell_type": "markdown",
   "metadata": {},
   "source": [
    "#If, else, elif\n",
    "\n",
    "Estas instrucciones son del tipo condicional,  ejemplo:"
   ]
  },
  {
   "cell_type": "code",
   "execution_count": 3,
   "metadata": {
    "collapsed": false
   },
   "outputs": [
    {
     "name": "stdout",
     "output_type": "stream",
     "text": [
      "Escriba un entero positivo: 5\n",
      "Gracias\n"
     ]
    }
   ],
   "source": [
    "x=int(raw_input(\"Escriba un entero positivo: \"))\n",
    "if x < 0:\n",
    "    print \"Este número es negativo\"\n",
    "elif x == 0:\n",
    "    print \"Este número es cero\"\n",
    "elif x<10:\n",
    "    print \"Gracias\"\n",
    "elif x==1000:\n",
    "    print \"Este número es muy grande\"\n",
    "else:\n",
    "    print \"Adios\""
   ]
  },
  {
   "cell_type": "markdown",
   "metadata": {},
   "source": [
    "Vemos que si no se cumple ninguna de las condiciones anteriores se ejecuta \"else\"."
   ]
  },
  {
   "cell_type": "code",
   "execution_count": 4,
   "metadata": {
    "collapsed": false
   },
   "outputs": [
    {
     "name": "stdout",
     "output_type": "stream",
     "text": [
      "Adios\n"
     ]
    }
   ],
   "source": [
    "x=100\n",
    "y=9\n",
    "t=x-y\n",
    "if t < 10:\n",
    "    print \"Hola\"\n",
    "else:\n",
    "    print \"Adios\""
   ]
  },
  {
   "cell_type": "markdown",
   "metadata": {},
   "source": [
    "#For\n",
    "\n",
    "Un ciclo de tipo for se suele ocupar para llevar a cabo un número de iteracoines que se conoce de antemano."
   ]
  },
  {
   "cell_type": "code",
   "execution_count": 5,
   "metadata": {
    "collapsed": false
   },
   "outputs": [
    {
     "name": "stdout",
     "output_type": "stream",
     "text": [
      "    C     F\n",
      "  -20  -4.0\n",
      "  -15   5.0\n",
      "  -10  14.0\n",
      "   -5  23.0\n",
      "    0  32.0\n",
      "    5  41.0\n",
      "   10  50.0\n",
      "   15  59.0\n",
      "   20  68.0\n"
     ]
    }
   ],
   "source": [
    "Cdegrees=[-20,-15,-10,-5, 0, 5, 10, 15, 20]\n",
    "print \"    C     F\"\n",
    "for C in Cdegrees:\n",
    "    F=(9.0/5)*C+32\n",
    "    print \"%5d %5.1f\" % (C,F) #los resultados se escriben en un a tabla de \n",
    "                            #ancho y numeros decimales definidos."
   ]
  },
  {
   "cell_type": "markdown",
   "metadata": {},
   "source": [
    "Si se desea modificar la secuencia que se esta iterando (por ejemplo, duplicar elementos) es recomendable hacer una copia primero"
   ]
  },
  {
   "cell_type": "code",
   "execution_count": 6,
   "metadata": {
    "collapsed": false
   },
   "outputs": [
    {
     "name": "stdout",
     "output_type": "stream",
     "text": [
      "gato 4\n",
      "perro 5\n",
      "caballo 7\n",
      "Coyote 6\n",
      "['caballo', 'gato', 'perro', 'caballo', 'Coyote']\n"
     ]
    }
   ],
   "source": [
    "words=[\"gato\",\"perro\",\"caballo\",\"Coyote\"]\n",
    "for w in words:\n",
    "    print w, len(w)\n",
    "for w in words[:]: #Loop sobre una parte de la lista\n",
    "    if len(w)>6:\n",
    "        words.insert(0,w)\n",
    "print words"
   ]
  },
  {
   "cell_type": "markdown",
   "metadata": {},
   "source": [
    "#Range\n",
    "\n",
    "Esta instrucción genera una lsta que contiene la progresion aritmetica indicada."
   ]
  },
  {
   "cell_type": "code",
   "execution_count": 7,
   "metadata": {
    "collapsed": false
   },
   "outputs": [
    {
     "data": {
      "text/plain": [
       "[0, 1, 2, 3, 4, 5, 6, 7, 8, 9]"
      ]
     },
     "execution_count": 7,
     "metadata": {},
     "output_type": "execute_result"
    }
   ],
   "source": [
    "range(10)"
   ]
  },
  {
   "cell_type": "code",
   "execution_count": 8,
   "metadata": {
    "collapsed": false
   },
   "outputs": [
    {
     "data": {
      "text/plain": [
       "[5, 6, 7, 8, 9]"
      ]
     },
     "execution_count": 8,
     "metadata": {},
     "output_type": "execute_result"
    }
   ],
   "source": [
    "range(5,10)"
   ]
  },
  {
   "cell_type": "code",
   "execution_count": 9,
   "metadata": {
    "collapsed": false
   },
   "outputs": [
    {
     "data": {
      "text/plain": [
       "[0, 3, 6, 9]"
      ]
     },
     "execution_count": 9,
     "metadata": {},
     "output_type": "execute_result"
    }
   ],
   "source": [
    "range(0,10,3)"
   ]
  },
  {
   "cell_type": "code",
   "execution_count": 10,
   "metadata": {
    "collapsed": false
   },
   "outputs": [
    {
     "data": {
      "text/plain": [
       "[-20, -17, -14, -11, -8, -5, -2]"
      ]
     },
     "execution_count": 10,
     "metadata": {},
     "output_type": "execute_result"
    }
   ],
   "source": [
    "range(-20,0,3)"
   ]
  },
  {
   "cell_type": "markdown",
   "metadata": {},
   "source": [
    "#Funciones"
   ]
  },
  {
   "cell_type": "markdown",
   "metadata": {},
   "source": [
    "Para introducir una función escribimos el comando def, como en el siguiente ejemplo:"
   ]
  },
  {
   "cell_type": "code",
   "execution_count": 11,
   "metadata": {
    "collapsed": false
   },
   "outputs": [],
   "source": [
    "def Fib(n):\n",
    "    a, b = 1,1\n",
    "    while a < n:\n",
    "            print a,\n",
    "            a, b= b, a+b"
   ]
  },
  {
   "cell_type": "code",
   "execution_count": 12,
   "metadata": {
    "collapsed": false
   },
   "outputs": [
    {
     "name": "stdout",
     "output_type": "stream",
     "text": [
      "1 1 2 3 5 8 13 21 34 55 89\n"
     ]
    }
   ],
   "source": [
    "Fib(100)"
   ]
  },
  {
   "cell_type": "markdown",
   "metadata": {
    "collapsed": true
   },
   "source": [
    "Podemos renombrar las funciones"
   ]
  },
  {
   "cell_type": "code",
   "execution_count": 13,
   "metadata": {
    "collapsed": true
   },
   "outputs": [],
   "source": [
    "f=Fib"
   ]
  },
  {
   "cell_type": "code",
   "execution_count": 14,
   "metadata": {
    "collapsed": false
   },
   "outputs": [
    {
     "name": "stdout",
     "output_type": "stream",
     "text": [
      "1 1 2 3 5 8 13 21 34 55 89\n"
     ]
    }
   ],
   "source": [
    "f(100)"
   ]
  },
  {
   "cell_type": "markdown",
   "metadata": {},
   "source": [
    "Podemos obtener los resultados en una lista"
   ]
  },
  {
   "cell_type": "code",
   "execution_count": 15,
   "metadata": {
    "collapsed": false
   },
   "outputs": [],
   "source": [
    "def Fib2(n):\n",
    "    result = []\n",
    "    a,b = 0,1\n",
    "    while a<n:\n",
    "        result.append(a)\n",
    "        a,b = b,a+b\n",
    "    return result"
   ]
  },
  {
   "cell_type": "code",
   "execution_count": 16,
   "metadata": {
    "collapsed": false
   },
   "outputs": [
    {
     "data": {
      "text/plain": [
       "[0, 1, 1, 2, 3, 5, 8, 13, 21, 34, 55, 89]"
      ]
     },
     "execution_count": 16,
     "metadata": {},
     "output_type": "execute_result"
    }
   ],
   "source": [
    "Fib2(100)"
   ]
  },
  {
   "cell_type": "code",
   "execution_count": 17,
   "metadata": {
    "collapsed": true
   },
   "outputs": [],
   "source": [
    "f2 = Fib2"
   ]
  },
  {
   "cell_type": "code",
   "execution_count": 18,
   "metadata": {
    "collapsed": false
   },
   "outputs": [
    {
     "data": {
      "text/plain": [
       "[0, 1, 1, 2, 3, 5, 8, 13, 21, 34, 55, 89]"
      ]
     },
     "execution_count": 18,
     "metadata": {},
     "output_type": "execute_result"
    }
   ],
   "source": [
    "f2(100)"
   ]
  },
  {
   "cell_type": "markdown",
   "metadata": {},
   "source": [
    "La instrucción result.append(a) es un método de la lista result. Un método es una funcón que \"pertenece\" al objeto y se escribe emn general como \"obj.methodname\", donde obj es algun objeto y \"methodname\" es en nombre del método que se ha elegido. El método \"append()\" agrega un nuevo elemento al final de la lista."
   ]
  },
  {
   "cell_type": "markdown",
   "metadata": {},
   "source": [
    "#Funciones con un número variable de argumentos.\n",
    "\n",
    "Este tipo de funciones dan el mismo resultado apara diferenes argumentos, por ejemplo"
   ]
  },
  {
   "cell_type": "code",
   "execution_count": 19,
   "metadata": {
    "collapsed": true
   },
   "outputs": [],
   "source": [
    "def ask_ok(promt, retries=4, complaint='Si o no, por favor'):\n",
    "    while True:\n",
    "        ok=raw_input(promt)\n",
    "        if ok in ('y','ye', 'yes'):\n",
    "            return True\n",
    "        if ok in ('n','no', 'nop', 'nope'):\n",
    "            return False\n",
    "        retries = retries -1\n",
    "        if retries < 0:\n",
    "            raise IOError('refusenik user')\n",
    "        print complaint"
   ]
  },
  {
   "cell_type": "code",
   "execution_count": 20,
   "metadata": {
    "collapsed": false
   },
   "outputs": [
    {
     "name": "stdout",
     "output_type": "stream",
     "text": [
      "do you really want to quit? 8\n",
      "Si o no, por favor\n",
      "do you really want to quit? 6\n",
      "Si o no, por favor\n",
      "do you really want to quit? -12\n",
      "Si o no, por favor\n",
      "do you really want to quit? y\n"
     ]
    },
    {
     "data": {
      "text/plain": [
       "True"
      ]
     },
     "execution_count": 20,
     "metadata": {},
     "output_type": "execute_result"
    }
   ],
   "source": [
    "ask_ok('do you really want to quit? ')"
   ]
  },
  {
   "cell_type": "markdown",
   "metadata": {},
   "source": [
    "La función \"in\" examina si una secuencia contiene cierto valor o no."
   ]
  },
  {
   "cell_type": "markdown",
   "metadata": {},
   "source": [
    "La funcion es evaluada con el argumento indicado antes de definnir la función, es decir"
   ]
  },
  {
   "cell_type": "code",
   "execution_count": 21,
   "metadata": {
    "collapsed": false
   },
   "outputs": [
    {
     "name": "stdout",
     "output_type": "stream",
     "text": [
      "5\n"
     ]
    }
   ],
   "source": [
    "i=5\n",
    "\n",
    "def fun(arg=i):\n",
    "    print arg\n",
    "\n",
    "i=6\n",
    "fun()"
   ]
  },
  {
   "cell_type": "markdown",
   "metadata": {},
   "source": [
    "# Estructura de Datos\n",
    "\n",
    "Revisión de como estructurar datos y que métodos nos pueden ser útiles.\n",
    "\n",
    "list.append(x) : Agrega un elemento al final de la lista.\n",
    "\n",
    "list.extend(l) : Extiende la lista apendando todos los elementos en la lista.\n",
    "\n",
    "list.insert(i,x) : Inserta un elemento en la posición indicada. El primer argumento es la posición del elemento antes de insertar y el segundo es la posición que ocupará.\n",
    "\n",
    "list.remove(x) : borra el primer elemento de la lista cuyo valor sea x.\n",
    "\n",
    "list.pop[i] : borra el elemento en la posición dada de la lista y regresa nos muestra el elemento (los corchetes indican que el argumento es opcional).\n",
    "\n",
    "list.index(x) : regresa el indice en la lista del primer elemento cuyo valor es x. si tal elemento no existe nos marcara un error.\n",
    "\n",
    "list.count(x) : regresa el númeor de veces que x aparece en la lista.\n",
    "\n",
    "list.sort(cmp=None, key=None,reverse=False) : ordena la lista.\n",
    "\n",
    "list.reverse() : ordena al reves los elementos de la lista."
   ]
  },
  {
   "cell_type": "code",
   "execution_count": 22,
   "metadata": {
    "collapsed": false
   },
   "outputs": [
    {
     "name": "stdout",
     "output_type": "stream",
     "text": [
      "3 1 0\n"
     ]
    }
   ],
   "source": [
    "a=[11,10,7,8,11,6,9,5,11]\n",
    "print a.count(11), a.count(7), a.count(999)"
   ]
  },
  {
   "cell_type": "code",
   "execution_count": 23,
   "metadata": {
    "collapsed": false
   },
   "outputs": [
    {
     "data": {
      "text/plain": [
       "[11, 10, -1, 7, 8, 11, 6, 9, 5, 11, 1000]"
      ]
     },
     "execution_count": 23,
     "metadata": {},
     "output_type": "execute_result"
    }
   ],
   "source": [
    "a.insert(2, -1)\n",
    "a.append(1000)\n",
    "a"
   ]
  },
  {
   "cell_type": "code",
   "execution_count": 24,
   "metadata": {
    "collapsed": false
   },
   "outputs": [
    {
     "data": {
      "text/plain": [
       "0"
      ]
     },
     "execution_count": 24,
     "metadata": {},
     "output_type": "execute_result"
    }
   ],
   "source": [
    "a.index(11)"
   ]
  },
  {
   "cell_type": "code",
   "execution_count": 25,
   "metadata": {
    "collapsed": false
   },
   "outputs": [
    {
     "data": {
      "text/plain": [
       "[10, -1, 7, 8, 11, 6, 9, 5, 11, 1000]"
      ]
     },
     "execution_count": 25,
     "metadata": {},
     "output_type": "execute_result"
    }
   ],
   "source": [
    "a.remove(11)\n",
    "a"
   ]
  },
  {
   "cell_type": "code",
   "execution_count": 26,
   "metadata": {
    "collapsed": false
   },
   "outputs": [
    {
     "data": {
      "text/plain": [
       "[1000, 11, 5, 9, 6, 11, 8, 7, -1, 10]"
      ]
     },
     "execution_count": 26,
     "metadata": {},
     "output_type": "execute_result"
    }
   ],
   "source": [
    "a.reverse()\n",
    "a"
   ]
  },
  {
   "cell_type": "code",
   "execution_count": 27,
   "metadata": {
    "collapsed": false
   },
   "outputs": [
    {
     "data": {
      "text/plain": [
       "[-1, 5, 6, 7, 8, 9, 10, 11, 11, 1000]"
      ]
     },
     "execution_count": 27,
     "metadata": {},
     "output_type": "execute_result"
    }
   ],
   "source": [
    "a.sort()\n",
    "a"
   ]
  },
  {
   "cell_type": "code",
   "execution_count": 28,
   "metadata": {
    "collapsed": false
   },
   "outputs": [
    {
     "data": {
      "text/plain": [
       "[-1, 5, 6, 7, 8, 9, 10, 11, 11]"
      ]
     },
     "execution_count": 28,
     "metadata": {},
     "output_type": "execute_result"
    }
   ],
   "source": [
    "a.pop()\n",
    "a"
   ]
  },
  {
   "cell_type": "markdown",
   "metadata": {},
   "source": [
    "#Herramientas para funciones.\n",
    "\n",
    "Hay funciones que son muy útiles cuando se tratan con listas; filter(), map() y reduce().\n",
    "\n",
    "filter(funtion, sequence) regresa una secuencia que consiste de aquelllos elemntos para los cuales funtion(item) es verdadero. pro ejemplo:"
   ]
  },
  {
   "cell_type": "code",
   "execution_count": 29,
   "metadata": {
    "collapsed": true
   },
   "outputs": [],
   "source": [
    "def f(x): return x%3 == 0 or x/5 == 0"
   ]
  },
  {
   "cell_type": "code",
   "execution_count": 30,
   "metadata": {
    "collapsed": false
   },
   "outputs": [
    {
     "data": {
      "text/plain": [
       "[2, 3, 4, 6, 9, 12, 15, 18, 21, 24]"
      ]
     },
     "execution_count": 30,
     "metadata": {},
     "output_type": "execute_result"
    }
   ],
   "source": [
    "filter(f,range(2,25))"
   ]
  },
  {
   "cell_type": "markdown",
   "metadata": {},
   "source": [
    "map(funtion, sequence)  llama funtion(item) por cada elemento de la secuencia y regresa una lista de los valores. por ejemplo:"
   ]
  },
  {
   "cell_type": "code",
   "execution_count": 31,
   "metadata": {
    "collapsed": true
   },
   "outputs": [],
   "source": [
    "def cube(x): return x*x*x"
   ]
  },
  {
   "cell_type": "code",
   "execution_count": 32,
   "metadata": {
    "collapsed": false
   },
   "outputs": [
    {
     "data": {
      "text/plain": [
       "[1, 8, 27, 64, 125, 216, 343, 512, 729, 1000]"
      ]
     },
     "execution_count": 32,
     "metadata": {},
     "output_type": "execute_result"
    }
   ],
   "source": [
    "map(cube,range(1,11))"
   ]
  },
  {
   "cell_type": "markdown",
   "metadata": {},
   "source": [
    "reduce(funtion, sequence) regresa el valor construido con los dos primeros elementos de la secuencia, luego toma el resultado y el tercero, y asi sucesivamente."
   ]
  },
  {
   "cell_type": "code",
   "execution_count": 33,
   "metadata": {
    "collapsed": false
   },
   "outputs": [
    {
     "data": {
      "text/plain": [
       "55"
      ]
     },
     "execution_count": 33,
     "metadata": {},
     "output_type": "execute_result"
    }
   ],
   "source": [
    "def add(x,y):\n",
    "    return x+y\n",
    "reduce(add,range(1,11))"
   ]
  },
  {
   "cell_type": "code",
   "execution_count": 34,
   "metadata": {
    "collapsed": false
   },
   "outputs": [
    {
     "name": "stdout",
     "output_type": "stream",
     "text": [
      "1\n",
      "2\n",
      "3\n",
      "5\n",
      "8\n",
      "13\n",
      "21\n",
      "34\n",
      "55\n",
      "89\n",
      "144\n"
     ]
    }
   ],
   "source": [
    "a,b,s = 0,1,0\n",
    "while s<100:\n",
    "    s=a+b\n",
    "    a=b\n",
    "    b=s\n",
    "    print s"
   ]
  },
  {
   "cell_type": "markdown",
   "metadata": {
    "collapsed": true
   },
   "source": [
    "Este programa nos dice si un número es primo o no."
   ]
  },
  {
   "cell_type": "code",
   "execution_count": 35,
   "metadata": {
    "collapsed": false
   },
   "outputs": [
    {
     "name": "stdout",
     "output_type": "stream",
     "text": [
      "Escriba un numero:8\n",
      "Este numero NO es primo.\n"
     ]
    }
   ],
   "source": [
    "PRIMO= 0\n",
    "DIV=2\n",
    "RES=0\n",
    "n=int(raw_input(\"Escriba un numero:\"))\n",
    "if n==1:\n",
    "    print \"Este numero NO es primo por convencion\"\n",
    "if n==2:\n",
    "    print \"Este numero es primo\"\n",
    "while DIV<n:\n",
    "    RES =n % DIV\n",
    "    if RES==0 and n!=2:\n",
    "        DIV=DIV+1\n",
    "        PRIMO=PRIMO+1\n",
    "    if RES != 0:\n",
    "        DIV=DIV +1\n",
    "if PRIMO==0 and n!=1 and n!=2:\n",
    "    print \"Este numero es primo\"\n",
    "if PRIMO!=0 and n!=2:\n",
    "    print \"Este numero NO es primo.\""
   ]
  },
  {
   "cell_type": "code",
   "execution_count": 36,
   "metadata": {
    "collapsed": false
   },
   "outputs": [
    {
     "name": "stdout",
     "output_type": "stream",
     "text": [
      "Hasta que numero se debe sumar?89\n",
      "1980\n"
     ]
    }
   ],
   "source": [
    "n=int(raw_input(\"Hasta que numero se debe sumar?\"))\n",
    "num=2\n",
    "sum=0\n",
    "if n<=1:\n",
    "    print 0\n",
    "while num<=n:    \n",
    "    sum=sum+num\n",
    "    num=num+2\n",
    "if n!=0 and n!=1:\n",
    "    print sum"
   ]
  },
  {
   "cell_type": "markdown",
   "metadata": {},
   "source": [
    "Este programa calcula la densidad"
   ]
  },
  {
   "cell_type": "code",
   "execution_count": 37,
   "metadata": {
    "collapsed": false
   },
   "outputs": [
    {
     "name": "stdout",
     "output_type": "stream",
     "text": [
      "Cual es la masa?546\n",
      "Cual es el volumen?45\n",
      "La densidad es:   12.1333333333\n"
     ]
    }
   ],
   "source": [
    "m=float(raw_input(\"Cual es la masa?\"))\n",
    "v=float(raw_input(\"Cual es el volumen?\"))\n",
    "rho=m/v\n",
    "print \"La densidad es:\" ,\" \",rho"
   ]
  },
  {
   "cell_type": "code",
   "execution_count": 38,
   "metadata": {
    "collapsed": false
   },
   "outputs": [
    {
     "name": "stdout",
     "output_type": "stream",
     "text": [
      "1\n",
      "0\n",
      "0\n",
      "0\n",
      "2\n",
      "1\n",
      "0\n",
      "0\n",
      "3\n",
      "1\n",
      "1\n",
      "0\n",
      "4\n",
      "2\n",
      "1\n",
      "1\n"
     ]
    }
   ],
   "source": [
    "mas=range(1,5)\n",
    "vol=range(1,5)\n",
    "for m in mas: \n",
    "    for v in vol:\n",
    "        rho=m/v\n",
    "        print rho"
   ]
  },
  {
   "cell_type": "code",
   "execution_count": null,
   "metadata": {
    "collapsed": true
   },
   "outputs": [],
   "source": []
  }
 ],
 "metadata": {
  "kernelspec": {
   "display_name": "Python 2",
   "language": "python",
   "name": "python2"
  },
  "language_info": {
   "codemirror_mode": {
    "name": "ipython",
    "version": 2
   },
   "file_extension": ".py",
   "mimetype": "text/x-python",
   "name": "python",
   "nbconvert_exporter": "python",
   "pygments_lexer": "ipython2",
   "version": "2.7.10"
  }
 },
 "nbformat": 4,
 "nbformat_minor": 0
}
